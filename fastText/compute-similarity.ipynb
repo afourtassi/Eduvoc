{
 "cells": [
  {
   "cell_type": "code",
   "execution_count": 3,
   "metadata": {
    "collapsed": true
   },
   "outputs": [],
   "source": [
    "# import fasttext\n",
    "import pandas as pd\n",
    "import re\n",
    "from collections import defaultdict"
   ]
  },
  {
   "cell_type": "markdown",
   "metadata": {},
   "source": [
    "# Produce `vocab.txt` from the `book.txt`"
   ]
  },
  {
   "cell_type": "code",
   "execution_count": 4,
   "metadata": {
    "collapsed": true
   },
   "outputs": [],
   "source": [
    "vocab = defaultdict(int)\n",
    "with open('book.txt') as f, open('book_preprocess.txt', 'w') as out:\n",
    "    for line in f:\n",
    "        if line:\n",
    "            words = re.split(r'\\W+', line)\n",
    "            for word in words:\n",
    "                if word.isalpha():\n",
    "                    vocab[word.lower()] += 1\n",
    "            new_line = \" \".join(words)\n",
    "            out.write(new_line.lower())"
   ]
  },
  {
   "cell_type": "code",
   "execution_count": 10,
   "metadata": {},
   "outputs": [
    {
     "name": "stdout",
     "output_type": "stream",
     "text": [
      "Before pruning words with frequency:  5701\n",
      "After pruning low frequency words (f==2):  2347\n"
     ]
    }
   ],
   "source": [
    "newV = {k:v for (k,v) in vocab.items() if v > 2}\n",
    "print(\"Before pruning words with frequency: \", len(vocab))\n",
    "print(\"After pruning low frequency words (f==2): \", len(newV))"
   ]
  },
  {
   "cell_type": "code",
   "execution_count": 11,
   "metadata": {
    "collapsed": true
   },
   "outputs": [],
   "source": [
    "# assigned the pruned vocab newV to vocab\n",
    "vocab = sorted(list(newV.keys()))"
   ]
  },
  {
   "cell_type": "code",
   "execution_count": 13,
   "metadata": {
    "collapsed": true
   },
   "outputs": [],
   "source": [
    "# produce vocab.txt\n",
    "with open('./edu-out/vocab.txt', 'w') as out:\n",
    "    for w in vocab:\n",
    "        out.write(w)\n",
    "        out.write('\\n')"
   ]
  },
  {
   "cell_type": "markdown",
   "metadata": {},
   "source": [
    "# load wiki-simple model and vectorize `vocab.txt`\n",
    "\n",
    "\n",
    "- `./fasttext print-word-vectors -input ./wiki-simple/wiki.simple.bin < edu-out/vocab.txt`"
   ]
  },
  {
   "cell_type": "markdown",
   "metadata": {},
   "source": [
    "# compute word similarity for each pair of words in vocab.txt"
   ]
  },
  {
   "cell_type": "code",
   "execution_count": 14,
   "metadata": {
    "collapsed": true
   },
   "outputs": [],
   "source": [
    "# load word vectors into word2vec dictionary\n",
    "word2vec = {}\n",
    "with open('./edu-out/vectors.txt') as f:\n",
    "    for line in f:\n",
    "        l = line.split()\n",
    "        w = l[0]\n",
    "        v = list(map(float, l[1:]))\n",
    "        word2vec[w] = v"
   ]
  },
  {
   "cell_type": "code",
   "execution_count": 15,
   "metadata": {
    "collapsed": true
   },
   "outputs": [],
   "source": [
    "# compute word similarities using scipy \n",
    "from scipy import spatial\n",
    "\n",
    "def getSim(w1, w2):\n",
    "    return abs(1 - spatial.distance.cosine(word2vec[w1], word2vec[w2]))\n",
    "\n",
    "data = []\n",
    "for w1 in vocab:\n",
    "    for w2 in vocab:\n",
    "        if w1 < w2:\n",
    "            similarity = getSim(w1, w2)\n",
    "            data.append([w1, w2, similarity])\n",
    "            "
   ]
  },
  {
   "cell_type": "markdown",
   "metadata": {},
   "source": [
    "# Save to links.csv and nodes.csv"
   ]
  },
  {
   "cell_type": "code",
   "execution_count": 17,
   "metadata": {
    "collapsed": true
   },
   "outputs": [],
   "source": [
    "links = pd.DataFrame(data, columns=['from','to', 'sim'])\n",
    "links.to_csv(\"./edu-out/links.csv\", index=False)"
   ]
  },
  {
   "cell_type": "code",
   "execution_count": 18,
   "metadata": {},
   "outputs": [
    {
     "data": {
      "text/html": [
       "<div>\n",
       "<style scoped>\n",
       "    .dataframe tbody tr th:only-of-type {\n",
       "        vertical-align: middle;\n",
       "    }\n",
       "\n",
       "    .dataframe tbody tr th {\n",
       "        vertical-align: top;\n",
       "    }\n",
       "\n",
       "    .dataframe thead th {\n",
       "        text-align: right;\n",
       "    }\n",
       "</style>\n",
       "<table border=\"1\" class=\"dataframe\">\n",
       "  <thead>\n",
       "    <tr style=\"text-align: right;\">\n",
       "      <th></th>\n",
       "      <th>from</th>\n",
       "      <th>to</th>\n",
       "      <th>sim</th>\n",
       "    </tr>\n",
       "  </thead>\n",
       "  <tbody>\n",
       "    <tr>\n",
       "      <th>0</th>\n",
       "      <td>a</td>\n",
       "      <td>aaaaaahhh</td>\n",
       "      <td>0.243774</td>\n",
       "    </tr>\n",
       "    <tr>\n",
       "      <th>1</th>\n",
       "      <td>a</td>\n",
       "      <td>able</td>\n",
       "      <td>0.287469</td>\n",
       "    </tr>\n",
       "    <tr>\n",
       "      <th>2</th>\n",
       "      <td>a</td>\n",
       "      <td>aboard</td>\n",
       "      <td>0.141293</td>\n",
       "    </tr>\n",
       "    <tr>\n",
       "      <th>3</th>\n",
       "      <td>a</td>\n",
       "      <td>about</td>\n",
       "      <td>0.341711</td>\n",
       "    </tr>\n",
       "    <tr>\n",
       "      <th>4</th>\n",
       "      <td>a</td>\n",
       "      <td>above</td>\n",
       "      <td>0.212498</td>\n",
       "    </tr>\n",
       "  </tbody>\n",
       "</table>\n",
       "</div>"
      ],
      "text/plain": [
       "  from         to       sim\n",
       "0    a  aaaaaahhh  0.243774\n",
       "1    a       able  0.287469\n",
       "2    a     aboard  0.141293\n",
       "3    a      about  0.341711\n",
       "4    a      above  0.212498"
      ]
     },
     "execution_count": 18,
     "metadata": {},
     "output_type": "execute_result"
    }
   ],
   "source": [
    "links.head()"
   ]
  },
  {
   "cell_type": "code",
   "execution_count": 21,
   "metadata": {},
   "outputs": [
    {
     "data": {
      "text/html": [
       "<div>\n",
       "<style scoped>\n",
       "    .dataframe tbody tr th:only-of-type {\n",
       "        vertical-align: middle;\n",
       "    }\n",
       "\n",
       "    .dataframe tbody tr th {\n",
       "        vertical-align: top;\n",
       "    }\n",
       "\n",
       "    .dataframe thead th {\n",
       "        text-align: right;\n",
       "    }\n",
       "</style>\n",
       "<table border=\"1\" class=\"dataframe\">\n",
       "  <thead>\n",
       "    <tr style=\"text-align: right;\">\n",
       "      <th></th>\n",
       "      <th>id</th>\n",
       "    </tr>\n",
       "  </thead>\n",
       "  <tbody>\n",
       "    <tr>\n",
       "      <th>0</th>\n",
       "      <td>a</td>\n",
       "    </tr>\n",
       "    <tr>\n",
       "      <th>1</th>\n",
       "      <td>aaaaaahhh</td>\n",
       "    </tr>\n",
       "    <tr>\n",
       "      <th>2</th>\n",
       "      <td>able</td>\n",
       "    </tr>\n",
       "    <tr>\n",
       "      <th>3</th>\n",
       "      <td>aboard</td>\n",
       "    </tr>\n",
       "    <tr>\n",
       "      <th>4</th>\n",
       "      <td>about</td>\n",
       "    </tr>\n",
       "  </tbody>\n",
       "</table>\n",
       "</div>"
      ],
      "text/plain": [
       "          id\n",
       "0          a\n",
       "1  aaaaaahhh\n",
       "2       able\n",
       "3     aboard\n",
       "4      about"
      ]
     },
     "execution_count": 21,
     "metadata": {},
     "output_type": "execute_result"
    }
   ],
   "source": [
    "nodes = vocab\n",
    "df = pd.DataFrame(data=nodes, columns=['id'])\n",
    "df.to_csv(\"./edu-out/nodes.csv\", index=False)\n",
    "df.head()"
   ]
  },
  {
   "cell_type": "code",
   "execution_count": null,
   "metadata": {
    "collapsed": true
   },
   "outputs": [],
   "source": []
  }
 ],
 "metadata": {
  "kernelspec": {
   "display_name": "Python 3",
   "language": "python",
   "name": "python3"
  },
  "language_info": {
   "codemirror_mode": {
    "name": "ipython",
    "version": 3
   },
   "file_extension": ".py",
   "mimetype": "text/x-python",
   "name": "python",
   "nbconvert_exporter": "python",
   "pygments_lexer": "ipython3",
   "version": "3.6.8"
  }
 },
 "nbformat": 4,
 "nbformat_minor": 2
}
