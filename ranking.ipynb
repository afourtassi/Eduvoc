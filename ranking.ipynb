{
 "cells": [
  {
   "cell_type": "code",
   "execution_count": null,
   "metadata": {},
   "outputs": [],
   "source": [
    "freq_rank\n",
    "strength_rank\n",
    "close_rank\n",
    "rebecca_rank"
   ]
  },
  {
   "cell_type": "code",
   "execution_count": 15,
   "metadata": {},
   "outputs": [
    {
     "data": {
      "text/plain": [
       "[1, 2, 3, 4, 5, 6, 7, 8, 9, 10]"
      ]
     },
     "execution_count": 15,
     "metadata": {},
     "output_type": "execute_result"
    }
   ],
   "source": [
    "with open(\"data/rebecca_rank\") as f:\n",
    "    rebecca_rank = [l.strip() for l in f.readlines()]\n",
    "rebecca_rank\n",
    "rebeccaMap = {}\n",
    "for i, r in enumerate(rebecca_rank):\n",
    "    rebeccaMap[r] = i + 1\n",
    "rebecca_rank = [rebeccaMap[w] for w in rebecca_rank]\n",
    "rebecca_rank[:10]"
   ]
  },
  {
   "cell_type": "code",
   "execution_count": 12,
   "metadata": {},
   "outputs": [
    {
     "data": {
      "text/plain": [
       "[8, 3, 1, 56, 64, 25, 55, 7, 27, 18]"
      ]
     },
     "execution_count": 12,
     "metadata": {},
     "output_type": "execute_result"
    }
   ],
   "source": [
    "with open(\"data/strength_rank\") as f:\n",
    "    strength_rank = [l.strip() for l in f.readlines()]\n",
    "strength_rank = [rebeccaMap[w] for w in strength_rank]\n",
    "strength_rank[:10]"
   ]
  },
  {
   "cell_type": "code",
   "execution_count": 13,
   "metadata": {},
   "outputs": [
    {
     "data": {
      "text/plain": [
       "[8, 3, 1, 56, 64, 25, 55, 7, 27, 18]"
      ]
     },
     "execution_count": 13,
     "metadata": {},
     "output_type": "execute_result"
    }
   ],
   "source": [
    "with open(\"data/close_rank\") as f:\n",
    "    close_rank = [l.strip() for l in f.readlines()]\n",
    "close_rank = [rebeccaMap[w] for w in close_rank]\n",
    "close_rank[:10]"
   ]
  },
  {
   "cell_type": "code",
   "execution_count": 39,
   "metadata": {},
   "outputs": [
    {
     "name": "stdout",
     "output_type": "stream",
     "text": [
      "0.37359781121751023\n",
      "0.419796755911667\n"
     ]
    }
   ],
   "source": [
    "import pandas as pd\n",
    "\n",
    "df = pd.DataFrame(\n",
    "    {'rebecca_rank': rebecca_rank,\n",
    "     'strength_rank': strength_rank,\n",
    "     'close_rank': close_rank\n",
    "    })\n",
    "print(df['rebecca_rank'].corr(df['strength_rank']))\n",
    "print(df['rebecca_rank'].corr(df['close_rank']))"
   ]
  },
  {
   "cell_type": "code",
   "execution_count": 29,
   "metadata": {},
   "outputs": [],
   "source": [
    "# problem with frequency (ties)\n",
    "with open(\"data/lemma_book.txt\") as f, open(\"data/intersection.txt\") as f1:\n",
    "    intersectionSet = set([w.strip() for w in f1.readlines()])\n",
    "    from collections import defaultdict\n",
    "    wordCounter = defaultdict(int)\n",
    "    for line in f:\n",
    "        for w in line.split():\n",
    "            if w in intersectionSet:\n",
    "                wordCounter[w] += 1\n",
    "wordTuple = [(w, c) for w, c in wordCounter.items()]"
   ]
  },
  {
   "cell_type": "code",
   "execution_count": 32,
   "metadata": {},
   "outputs": [
    {
     "data": {
      "text/plain": [
       "[('picking', 1),\n",
       " ('vest', 1),\n",
       " ('roof', 1),\n",
       " ('ax', 1),\n",
       " ('swamp', 1),\n",
       " ('pastry', 1),\n",
       " ('drum', 1),\n",
       " ('trumpet', 1),\n",
       " ('elbow', 1),\n",
       " ('lamp', 1),\n",
       " ('palm', 1),\n",
       " ('diamond', 1),\n",
       " ('pedestrian', 1),\n",
       " ('vegetable', 1),\n",
       " ('banana', 1),\n",
       " ('ruler', 1),\n",
       " ('uniform', 1),\n",
       " ('wedge', 1),\n",
       " ('hyena', 1),\n",
       " ('pencil', 1),\n",
       " ('clarinet', 1),\n",
       " ('lever', 1),\n",
       " ('luggage', 1),\n",
       " ('barb', 1),\n",
       " ('boulder', 1),\n",
       " ('vine', 2),\n",
       " ('vase', 2),\n",
       " ('coast', 2),\n",
       " ('weary', 2),\n",
       " ('dentist', 2),\n",
       " ('painting', 2),\n",
       " ('dromedary', 2),\n",
       " ('gigantic', 2),\n",
       " ('turtle', 3),\n",
       " ('shoulder', 3),\n",
       " ('whistle', 3),\n",
       " ('furry', 3),\n",
       " ('heart', 3),\n",
       " ('claw', 3),\n",
       " ('jumping', 3),\n",
       " ('tunnel', 3),\n",
       " ('bloom', 3),\n",
       " ('feather', 4),\n",
       " ('mammal', 4),\n",
       " ('pigeon', 4),\n",
       " ('net', 4),\n",
       " ('penguin', 4),\n",
       " ('valley', 5),\n",
       " ('toe', 6),\n",
       " ('river', 6),\n",
       " ('castle', 6),\n",
       " ('spoon', 7),\n",
       " ('carrot', 7),\n",
       " ('farm', 8),\n",
       " ('square', 8),\n",
       " ('cookie', 8),\n",
       " ('gift', 9),\n",
       " ('shoe', 10),\n",
       " ('ball', 10),\n",
       " ('safe', 11),\n",
       " ('trunk', 11),\n",
       " ('empty', 12),\n",
       " ('fire', 12),\n",
       " ('mouth', 13),\n",
       " ('branch', 14),\n",
       " ('fence', 15),\n",
       " ('duck', 17),\n",
       " ('cup', 18),\n",
       " ('flower', 27),\n",
       " ('happy', 27),\n",
       " ('foot', 29),\n",
       " ('bus', 43),\n",
       " ('red', 48),\n",
       " ('dog', 66),\n",
       " ('fly', 81)]"
      ]
     },
     "execution_count": 32,
     "metadata": {},
     "output_type": "execute_result"
    }
   ],
   "source": [
    "sorted(wordTuple, key=lambda x: x[1])"
   ]
  },
  {
   "cell_type": "code",
   "execution_count": null,
   "metadata": {},
   "outputs": [],
   "source": []
  }
 ],
 "metadata": {
  "kernelspec": {
   "display_name": "Python 3",
   "language": "python",
   "name": "python3"
  },
  "language_info": {
   "codemirror_mode": {
    "name": "ipython",
    "version": 3
   },
   "file_extension": ".py",
   "mimetype": "text/x-python",
   "name": "python",
   "nbconvert_exporter": "python",
   "pygments_lexer": "ipython3",
   "version": "3.7.1"
  }
 },
 "nbformat": 4,
 "nbformat_minor": 2
}
