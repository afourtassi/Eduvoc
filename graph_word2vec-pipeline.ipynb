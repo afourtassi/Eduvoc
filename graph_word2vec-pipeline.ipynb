{
 "cells": [
  {
   "cell_type": "markdown",
   "metadata": {},
   "source": [
    "# visualize noun words"
   ]
  },
  {
   "cell_type": "code",
   "execution_count": 5,
   "metadata": {},
   "outputs": [
    {
     "name": "stdout",
     "output_type": "stream",
     "text": [
      "n\t 3153\n",
      "v\t 1337\n",
      "freq  1 10183\n",
      "freq  2 2828\n",
      "freq  3 1809\n",
      "freq  4 1454\n",
      "freq  5 1224\n",
      "man woman 0.11344437301158905\n",
      "cat dog 0.3932895362377167\n",
      "sun kid 0.13138197362422943\n"
     ]
    }
   ],
   "source": [
    "from preprocess import *\n",
    "from model import *\n",
    "\n",
    "# ------------------------ PREPROCESS -------------------------------\n",
    "ranked_words= read_rebecca_lemma()\n",
    "\n",
    "book_words, pos_words = lemmatize_book()\n",
    "\n",
    "print('n\\t', len(pos_words['n']))\n",
    "print('v\\t', len(pos_words['v']))\n",
    "\n",
    "# generate_wordset_files(book_words, ranked_words)\n",
    "\n",
    "# ---------------------TRAIN WORD2VEC -------------------------------\n",
    "documents = read_docs()\n",
    "# no pretrained\n",
    "model = train_word2vec(documents, 300, 5, 200)\n",
    "# use pretrained model\n",
    "# model = load_pretrained_word2vec(documents, 300, 5, 100, retrain=False)\n",
    "# use pretrained + retrain\n",
    "# model = load_pretrained_word2vec(documents, 300, 5, 30, retrain=True)\n",
    "\n",
    "freq_counts(documents)\n",
    "print('man', 'woman', getDistance('man', 'woman', model))\n",
    "print('cat', 'dog', getDistance('cat', 'dog', model))\n",
    "print('sun', 'kid', getDistance('sun', 'kid', model))        \n",
    "\n",
    "# ------------------------------BUILD + VISUALIZE GRAPH---------------------------\n",
    "# g = build_pos_graph(model, pos_words['n'], sampling_size=50, max_dist=0.1) #change edu_set to pos_set\n",
    "\n",
    "\n",
    "# NOUN\n",
    "for i in range(0, 10, 1):\n",
    "\tmax_dist = 0.1*(i+1)\n",
    "\n",
    "\tg = build_pos_graph(model, pos_words['n'], sampling_size=30, max_dist=max_dist)\n",
    "\n",
    "\tvisual_style = {}\n",
    "\tvisual_style[\"vertex_label_color\"] = \"#0088ff\"\n",
    "\tvisual_style[\"vertex_label_size\"] = 15\n",
    "\tvisual_style[\"vertex_size\"] = 20\n",
    "\tvisual_style[\"vertex_label\"] = g.vs[\"label\"]\n",
    "\tlayout = g.layout(\"kk\")\n",
    "\tvisual_style[\"layout\"] = layout\n",
    "\tvisual_style[\"bbox\"] = (300, 300)\n",
    "\tvisual_style[\"margin\"] = 20\n",
    "\tfilename = \"./output/noun{}.pdf\".format(i)\n",
    "\tplot(g, filename, **visual_style)"
   ]
  },
  {
   "cell_type": "code",
   "execution_count": 6,
   "metadata": {},
   "outputs": [],
   "source": [
    "# VERBS\n",
    "for i in range(0, 10, 1):\n",
    "\tmax_dist = 0.1*(i+1)\n",
    "\n",
    "\tg = build_pos_graph(model, pos_words['v'], sampling_size=30, max_dist=max_dist)\n",
    "\n",
    "\tvisual_style = {}\n",
    "\tvisual_style[\"vertex_label_color\"] = \"#0088ff\"\n",
    "\tvisual_style[\"vertex_label_size\"] = 15\n",
    "\tvisual_style[\"vertex_size\"] = 20\n",
    "\tvisual_style[\"vertex_label\"] = g.vs[\"label\"]\n",
    "\tlayout = g.layout(\"kk\")\n",
    "\tvisual_style[\"layout\"] = layout\n",
    "\tvisual_style[\"bbox\"] = (300, 300)\n",
    "\tvisual_style[\"margin\"] = 20\n",
    "\tfilename = \"./output/verb{}.pdf\".format(i)\n",
    "\tplot(g, filename, **visual_style)"
   ]
  },
  {
   "cell_type": "markdown",
   "metadata": {},
   "source": [
    "# construct semantic network using w2v "
   ]
  },
  {
   "cell_type": "code",
   "execution_count": 2,
   "metadata": {},
   "outputs": [
    {
     "name": "stdout",
     "output_type": "stream",
     "text": [
      "freq  1 10183\n",
      "freq  2 2828\n",
      "freq  3 1809\n",
      "freq  4 1454\n",
      "freq  5 1224\n",
      "man woman 0.11811476200819016\n",
      "cat dog 0.38874325156211853\n",
      "sun kid 0.12517696619033813\n",
      "word2vec:\t 1224\n",
      "book_set:\t 4751\n",
      "edu_set:\t 228\n",
      "surrounding words 1125\n",
      "intersertion words 28\n",
      "     word  rebec     strgth       close   betw     eigen  degree  freq\n",
      "23   ball      1   5.983983  219.075029  230.0  0.447835     116    10\n",
      "8     dog      2   9.965104  168.385991   42.0  0.814703      89    66\n",
      "27  spoon      3  10.953181  242.473746  153.0  0.749478      89     7\n",
      "5    foot      4   9.342622  237.922658  491.0  0.756830      98    29\n",
      "18   duck      5  10.762405  167.400740    0.0  0.865990      88    17\n",
      "rebecca vs. strgth 0.2411645579712757\n",
      "rebecca vs. close 0.03563099953891488\n",
      "rebecca vs. betw -0.09712636853686307\n",
      "rebecca vs. eigen 0.313182398913958\n",
      "rebecca vs. degree -0.2909009215348\n",
      "rebecca vs. freq -0.30977605925871654\n"
     ]
    }
   ],
   "source": [
    "from model import *\n",
    "\n",
    "documents = read_docs()\n",
    "\n",
    "# no pretrained\n",
    "model = train_word2vec(documents, 300, 5, 200)\n",
    "# use pretrained model\n",
    "# model = load_pretrained_word2vec(documents, 300, 5, 100, retrain=False)\n",
    "# use pretrained + retrain\n",
    "# model = load_pretrained_word2vec(documents, 300, 5, 30, retrain=True)\n",
    "\n",
    "freq_counts(documents)\n",
    "print('man', 'woman', getDistance('man', 'woman', model))\n",
    "print('cat', 'dog', getDistance('cat', 'dog', model))\n",
    "print('sun', 'kid', getDistance('sun', 'kid', model))        \n",
    "        \n",
    "# build graph     \n",
    "g, (edges, vertices), (id2token, token2id) = build_graph(model, sampling=True)\n",
    "\n",
    "# compute measures\n",
    "df = compute_measures_df(g, edges, vertices, id2token, token2id)\n",
    "\n",
    "# see correlations\n",
    "for col in df.columns[2:]:  \n",
    "    print('rebecca vs. {}'.format(col), df['rebec'].corr(df[col]))\n",
    "\n",
    "# save to csv\n",
    "df.to_csv(\"./ranks_04_16_continuous_close_strgth.csv\",index=False)"
   ]
  },
  {
   "cell_type": "code",
   "execution_count": null,
   "metadata": {},
   "outputs": [],
   "source": []
  },
  {
   "cell_type": "code",
   "execution_count": null,
   "metadata": {},
   "outputs": [],
   "source": []
  },
  {
   "cell_type": "code",
   "execution_count": null,
   "metadata": {},
   "outputs": [],
   "source": []
  },
  {
   "cell_type": "code",
   "execution_count": null,
   "metadata": {},
   "outputs": [],
   "source": []
  },
  {
   "cell_type": "code",
   "execution_count": null,
   "metadata": {},
   "outputs": [],
   "source": []
  },
  {
   "cell_type": "code",
   "execution_count": null,
   "metadata": {},
   "outputs": [],
   "source": []
  },
  {
   "cell_type": "code",
   "execution_count": null,
   "metadata": {},
   "outputs": [],
   "source": []
  },
  {
   "cell_type": "code",
   "execution_count": null,
   "metadata": {},
   "outputs": [],
   "source": []
  },
  {
   "cell_type": "code",
   "execution_count": null,
   "metadata": {},
   "outputs": [],
   "source": []
  },
  {
   "cell_type": "code",
   "execution_count": null,
   "metadata": {},
   "outputs": [],
   "source": []
  }
 ],
 "metadata": {
  "kernelspec": {
   "display_name": "Python 3",
   "language": "python",
   "name": "python3"
  },
  "language_info": {
   "codemirror_mode": {
    "name": "ipython",
    "version": 3
   },
   "file_extension": ".py",
   "mimetype": "text/x-python",
   "name": "python",
   "nbconvert_exporter": "python",
   "pygments_lexer": "ipython3",
   "version": "3.7.1"
  }
 },
 "nbformat": 4,
 "nbformat_minor": 2
}
